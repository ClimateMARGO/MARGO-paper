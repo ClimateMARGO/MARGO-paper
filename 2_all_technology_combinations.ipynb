{
 "cells": [
  {
   "cell_type": "code",
   "execution_count": 9,
   "metadata": {},
   "outputs": [],
   "source": [
    "using Revise"
   ]
  },
  {
   "cell_type": "code",
   "execution_count": 10,
   "metadata": {},
   "outputs": [],
   "source": [
    "using PyCall, PyPlot, JuMP\n",
    "using ClimateMARGO"
   ]
  },
  {
   "cell_type": "code",
   "execution_count": 11,
   "metadata": {},
   "outputs": [],
   "source": [
    "using ClimateMARGO.Diagnostics\n",
    "using ClimateMARGO.Models"
   ]
  },
  {
   "cell_type": "code",
   "execution_count": 12,
   "metadata": {},
   "outputs": [],
   "source": [
    "using Combinatorics"
   ]
  },
  {
   "cell_type": "markdown",
   "metadata": {},
   "source": [
    "# Optimizating the Global Climate Action Policy Portfolio"
   ]
  },
  {
   "cell_type": "code",
   "execution_count": 15,
   "metadata": {},
   "outputs": [
    {
     "data": {
      "text/plain": [
       "Dict{String,Float64} with 4 entries:\n",
       "  \"geoeng\"   => 1.0\n",
       "  \"mitigate\" => 1.0\n",
       "  \"remove\"   => 1.0\n",
       "  \"adapt\"    => 0.4"
      ]
     },
     "execution_count": 15,
     "metadata": {},
     "output_type": "execute_result"
    }
   ],
   "source": [
    "model_og = deepcopy(ClimateModel(ClimateMARGO.IO.included_configurations[\"default\"]));\n",
    "max_deployment_og = Dict(\"mitigate\"=>1., \"remove\"=>1., \"geoeng\"=>1., \"adapt\"=>0.4)"
   ]
  },
  {
   "cell_type": "code",
   "execution_count": 16,
   "metadata": {},
   "outputs": [],
   "source": [
    "controls = collect(keys(max_deployment_og));"
   ]
  },
  {
   "cell_type": "code",
   "execution_count": 17,
   "metadata": {},
   "outputs": [
    {
     "data": {
      "text/plain": [
       "15-element Array{Array{String,1},1}:\n",
       " [\"geoeng\"]\n",
       " [\"mitigate\"]\n",
       " [\"remove\"]\n",
       " [\"adapt\"]\n",
       " [\"geoeng\", \"mitigate\"]\n",
       " [\"geoeng\", \"remove\"]\n",
       " [\"geoeng\", \"adapt\"]\n",
       " [\"mitigate\", \"remove\"]\n",
       " [\"mitigate\", \"adapt\"]\n",
       " [\"remove\", \"adapt\"]\n",
       " [\"geoeng\", \"mitigate\", \"remove\"]\n",
       " [\"geoeng\", \"mitigate\", \"adapt\"]\n",
       " [\"geoeng\", \"remove\", \"adapt\"]\n",
       " [\"mitigate\", \"remove\", \"adapt\"]\n",
       " [\"geoeng\", \"mitigate\", \"remove\", \"adapt\"]"
      ]
     },
     "execution_count": 17,
     "metadata": {},
     "output_type": "execute_result"
    }
   ],
   "source": [
    "control_permutations = combinations(controls) |> collect"
   ]
  },
  {
   "cell_type": "code",
   "execution_count": 197,
   "metadata": {},
   "outputs": [],
   "source": [
    "function exp_short_name(control_permutation)\n",
    "    tmp_name = \"\"\n",
    "    if \"mitigate\" in control_permutation; tmp_name = string(tmp_name, \"M\"); end;\n",
    "    if \"remove\" in control_permutation; tmp_name = string(tmp_name, \"R\"); end;\n",
    "    if \"geoeng\" in control_permutation; tmp_name = string(tmp_name, \"G\"); end;\n",
    "    if \"adapt\" in control_permutation; tmp_name = string(tmp_name, \"A\"); end;\n",
    "    return tmp_name\n",
    "end;"
   ]
  },
  {
   "cell_type": "code",
   "execution_count": 191,
   "metadata": {},
   "outputs": [
    {
     "data": {
      "text/plain": [
       "Dict{Symbol,Array{Symbol,1}} with 2 entries:\n",
       "  :physics   => [:B, :r, :κ]\n",
       "  :economics => [:ρ, :mitigate_cost, :remove_cost, :geoeng_cost, :adapt_cost]"
      ]
     },
     "execution_count": 191,
     "metadata": {},
     "output_type": "execute_result"
    }
   ],
   "source": [
    "parameter_permutations = Dict(\n",
    "    :economics => [:ρ, :mitigate_cost, :remove_cost, :geoeng_cost, :adapt_cost],\n",
    "    :physics => [:B, :r, :κ]\n",
    ")"
   ]
  },
  {
   "cell_type": "code",
   "execution_count": 203,
   "metadata": {},
   "outputs": [],
   "source": [
    "results = Dict()\n",
    "\n",
    "for (submodel, parameter_list) in parameter_permutations\n",
    "    for parameter in parameter_list\n",
    "        for (perturb_name, perturb_value) in zip([\"low\", \"high\"], [0.5, 1.5])\n",
    "            \n",
    "            exp = string(submodel, \"-\", parameter, \"-\", perturb_name)\n",
    "            results[exp] = Dict()\n",
    "            for control_permutation in control_permutations\n",
    "                model = deepcopy(ClimateModel(ClimateMARGO.IO.included_configurations[\"default\"]));\n",
    "                \n",
    "                setfield!(getfield(model, submodel), parameter, getfield(getfield(model_og, submodel), parameter)*perturb_value)\n",
    "                # Assert that some controls not be deployed\n",
    "                max_deployment = copy(max_deployment_og)\n",
    "                for control in controls\n",
    "                    if ~(control in control_permutation)\n",
    "                        max_deployment[control] = 0.\n",
    "                        # Override initial condition constraints\n",
    "                        if ~isnothing(getfield(model.economics, Symbol(string(control,\"_init\"))))\n",
    "                            setfield!(model.economics, Symbol(string(control,\"_init\")), 0.)\n",
    "                        end\n",
    "                    end\n",
    "                end\n",
    "                m = ClimateMARGO.Optimization.optimize_controls!(model, max_deployment = max_deployment, temp_goal=2.0, print_raw_status=false);\n",
    "                \n",
    "                results[exp][exp_short_name(control_permutation)] = Dict(\n",
    "                    \"model\" => model,\n",
    "                    \"NPV\" => net_present_cost(model, M=true, R=true, G=true, A=true),\n",
    "                    \"status\" => raw_status(m)\n",
    "                )\n",
    "            end\n",
    "        end\n",
    "    end\n",
    "end"
   ]
  },
  {
   "cell_type": "code",
   "execution_count": 266,
   "metadata": {},
   "outputs": [],
   "source": [
    "exp_name = \"physics-B-low\"\n",
    "\n",
    "_keys = deepcopy([val for val in collect(keys(results[exp_name]))]);\n",
    "_status = deepcopy([val[\"status\"] for val in collect(values(results[exp_name]))])\n",
    "_vals = deepcopy([val[\"NPV\"] for val in collect(values(results[exp_name]))]);\n",
    "\n",
    "_vals[_status .== \"Infeasible_Problem_Detected\"] .= NaN\n",
    "idx = sortperm(_vals);\n",
    "#_keys = _keys[idx]; _vals = _vals[idx]; _status = _status[idx];"
   ]
  },
  {
   "cell_type": "code",
   "execution_count": 279,
   "metadata": {},
   "outputs": [
    {
     "data": {
      "text/plain": [
       "15-element Array{String,1}:\n",
       " \"MG\"\n",
       " \"MGA\"\n",
       " \"RA\"\n",
       " \"M\"\n",
       " \"RG\"\n",
       " \"A\"\n",
       " \"G\"\n",
       " \"GA\"\n",
       " \"MRG\"\n",
       " \"MR\"\n",
       " \"RGA\"\n",
       " \"MA\"\n",
       " \"R\"\n",
       " \"MRGA\"\n",
       " \"MRA\""
      ]
     },
     "execution_count": 279,
     "metadata": {},
     "output_type": "execute_result"
    }
   ],
   "source": [
    "_keys"
   ]
  },
  {
   "cell_type": "code",
   "execution_count": 274,
   "metadata": {},
   "outputs": [
    {
     "data": {
      "text/plain": [
       "1-element Array{Int64,1}:\n",
       " 4"
      ]
     },
     "execution_count": 274,
     "metadata": {},
     "output_type": "execute_result"
    }
   ],
   "source": [
    "findall(x->x==\"M\", _keys)"
   ]
  },
  {
   "cell_type": "code",
   "execution_count": 309,
   "metadata": {},
   "outputs": [],
   "source": [
    "ranking = Dict()\n",
    "for perm in control_permutations; ranking[exp_short_name(perm)] = 0.; end;\n",
    "    \n",
    "highest_rank = Dict()\n",
    "for perm in control_permutations; highest_rank[exp_short_name(perm)] = 1; end;\n",
    "\n",
    "lowest_rank = Dict()\n",
    "for perm in control_permutations; lowest_rank[exp_short_name(perm)] = 15; end;\n",
    "\n",
    "for (exp_k, exp_v) in results\n",
    "    \n",
    "    _keys = deepcopy([val for val in collect(keys(exp_v))]);\n",
    "    _status = deepcopy([val[\"status\"] for val in collect(values(exp_v))])\n",
    "    _vals = deepcopy([val[\"NPV\"] for val in collect(values(exp_v))]);\n",
    "\n",
    "    _vals[_status .== \"Infeasible_Problem_Detected\"] .= NaN\n",
    "    idx = sortperm(_vals);\n",
    "    _keys = _keys[idx]; _vals = _vals[idx]; _status = _status[idx];\n",
    "    \n",
    "    for (perm_k, perm_v) in exp_v\n",
    "        rank = findall(x->x==perm_k, _keys)[1]\n",
    "        ranking[perm_k] += rank/ length(results)\n",
    "        if rank > highest_rank[perm_k];\n",
    "            highest_rank[perm_k] = rank;\n",
    "        end\n",
    "        if rank < lowest_rank[perm_k];\n",
    "            lowest_rank[perm_k] = rank\n",
    "        end\n",
    "    end\n",
    "end"
   ]
  },
  {
   "cell_type": "code",
   "execution_count": 401,
   "metadata": {},
   "outputs": [
    {
     "name": "stdout",
     "output_type": "stream",
     "text": [
      "MRGA [\"MRGA\"]\n",
      "MGA Any[]\n",
      "MRG Any[]\n",
      "MG [\"MG\"]\n",
      "RGA Any[]\n",
      "MRA Any[]\n",
      "GA Any[]\n",
      "MR Any[]\n",
      "RG Any[]\n",
      "MA Any[]\n",
      "M Any[]\n",
      "G Any[]\n",
      "RA Any[]\n",
      "A [\"A\"]\n",
      "R [\"R\"]\n"
     ]
    }
   ],
   "source": [
    "_highest_rank = collect(values(highest_rank))\n",
    "_lowest_rank = collect(values(lowest_rank))\n",
    "_names = collect(keys(lowest_rank))\n",
    "idx = sortperm(collect(values(lowest_rank)))\n",
    "_highest_rank = _highest_rank[idx]; _lowest_rank = _lowest_rank[idx]; _names = _names[idx]; \n",
    "\n",
    "ranked_clusters = []\n",
    "for (k, h, l) in zip(_names, _highest_rank, _lowest_rank)\n",
    "    #println(k, \" \", _names[l .>= _lowest_rank], \" \", _names[h .<= _highest_rank])\n",
    "    always_lower_than = _names[h .<= _lowest_rank]\n",
    "    always_higher_than = _names[l .>= _highest_rank]\n",
    "    println(k, \" \", [name for name in _names if ((name in always_lower_than) & (name in always_higher_than))])\n",
    "end"
   ]
  },
  {
   "cell_type": "code",
   "execution_count": 383,
   "metadata": {},
   "outputs": [
    {
     "data": {
      "text/plain": [
       "Dict{Any,Any} with 15 entries:\n",
       "  \"MG\"   => 4\n",
       "  \"MGA\"  => 3\n",
       "  \"RA\"   => 13\n",
       "  \"M\"    => 13\n",
       "  \"RG\"   => 11\n",
       "  \"A\"    => 14\n",
       "  \"G\"    => 12\n",
       "  \"GA\"   => 10\n",
       "  \"MRG\"  => 3\n",
       "  \"MR\"   => 10\n",
       "  \"RGA\"  => 9\n",
       "  \"MA\"   => 11\n",
       "  \"R\"    => 15\n",
       "  \"MRGA\" => 1\n",
       "  \"MRA\"  => 9"
      ]
     },
     "execution_count": 383,
     "metadata": {},
     "output_type": "execute_result"
    }
   ],
   "source": [
    "_names[1 .<= _lowest_rank]"
   ]
  },
  {
   "cell_type": "code",
   "execution_count": 385,
   "metadata": {},
   "outputs": [
    {
     "data": {
      "text/plain": [
       "Dict{Any,Any} with 15 entries:\n",
       "  \"MG\"   => 4\n",
       "  \"MGA\"  => 2\n",
       "  \"RA\"   => 12\n",
       "  \"M\"    => 8\n",
       "  \"RG\"   => 7\n",
       "  \"A\"    => 14\n",
       "  \"G\"    => 8\n",
       "  \"GA\"   => 6\n",
       "  \"MRG\"  => 2\n",
       "  \"MR\"   => 6\n",
       "  \"RGA\"  => 5\n",
       "  \"MA\"   => 7\n",
       "  \"R\"    => 15\n",
       "  \"MRGA\" => 1\n",
       "  \"MRA\"  => 5"
      ]
     },
     "execution_count": 385,
     "metadata": {},
     "output_type": "execute_result"
    }
   ],
   "source": [
    "lowest_rank"
   ]
  },
  {
   "cell_type": "code",
   "execution_count": 314,
   "metadata": {},
   "outputs": [
    {
     "data": {
      "text/plain": [
       "Dict{Any,Any}()"
      ]
     },
     "execution_count": 314,
     "metadata": {},
     "output_type": "execute_result"
    }
   ],
   "source": [
    "always_higher = Dict()\n",
    "always_lower = Dict()"
   ]
  },
  {
   "cell_type": "code",
   "execution_count": 311,
   "metadata": {},
   "outputs": [
    {
     "ename": "LoadError",
     "evalue": "UndefVarError: lower_rank not defined",
     "output_type": "error",
     "traceback": [
      "UndefVarError: lower_rank not defined",
      "",
      "Stacktrace:",
      " [1] top-level scope",
      " [2] include_string(::Function, ::Module, ::String, ::String) at ./loading.jl:1091",
      " [3] execute_code(::String, ::String) at /Users/hdrake/.julia/packages/IJulia/rWZ9e/src/execute_request.jl:27",
      " [4] execute_request(::ZMQ.Socket, ::IJulia.Msg) at /Users/hdrake/.julia/packages/IJulia/rWZ9e/src/execute_request.jl:86",
      " [5] #invokelatest#1 at ./essentials.jl:710 [inlined]",
      " [6] invokelatest at ./essentials.jl:709 [inlined]",
      " [7] eventloop(::ZMQ.Socket) at /Users/hdrake/.julia/packages/IJulia/rWZ9e/src/eventloop.jl:8",
      " [8] (::IJulia.var\"#15#18\")() at ./task.jl:356"
     ]
    }
   ],
   "source": [
    "lower_rank"
   ]
  },
  {
   "cell_type": "code",
   "execution_count": 308,
   "metadata": {},
   "outputs": [
    {
     "data": {
      "text/plain": [
       "2-element Array{Array{Any,1},1}:\n",
       " [\"MRGA\", \"MRG\", \"MGA\", \"MG\", \"MRA\", \"RGA\", \"MR\", \"GA\", \"MA\", \"RG\", \"M\", \"G\", \"RA\", \"A\", \"R\"]\n",
       " [1.0, 2.4375, 2.5625, 4.0, 6.0625, 6.875, 7.3125, 8.3125, 8.5, 9.6875, 10.5, 10.875, 12.875, 14.0, 15.0]"
      ]
     },
     "execution_count": 308,
     "metadata": {},
     "output_type": "execute_result"
    }
   ],
   "source": [
    "idx = sortperm(collect(values(ranking)))\n",
    "[collect(keys(ranking))[idx], collect(values(ranking))[idx]]"
   ]
  },
  {
   "cell_type": "code",
   "execution_count": null,
   "metadata": {},
   "outputs": [],
   "source": []
  },
  {
   "cell_type": "code",
   "execution_count": 207,
   "metadata": {},
   "outputs": [
    {
     "data": {
      "text/plain": [
       "0.565"
      ]
     },
     "execution_count": 207,
     "metadata": {},
     "output_type": "execute_result"
    }
   ],
   "source": [
    "results[exp_name][\"MR\"][\"model\"].physics.B"
   ]
  },
  {
   "cell_type": "code",
   "execution_count": 181,
   "metadata": {},
   "outputs": [
    {
     "ename": "LoadError",
     "evalue": "KeyError: key [\"adapt\"] not found",
     "output_type": "error",
     "traceback": [
      "KeyError: key [\"adapt\"] not found",
      "",
      "Stacktrace:",
      " [1] getindex(::Dict{Any,Any}, ::Array{String,1}) at ./dict.jl:467",
      " [2] top-level scope at In[181]:1",
      " [3] include_string(::Function, ::Module, ::String, ::String) at ./loading.jl:1091",
      " [4] execute_code(::String, ::String) at /Users/hdrake/.julia/packages/IJulia/rWZ9e/src/execute_request.jl:27",
      " [5] execute_request(::ZMQ.Socket, ::IJulia.Msg) at /Users/hdrake/.julia/packages/IJulia/rWZ9e/src/execute_request.jl:86",
      " [6] #invokelatest#1 at ./essentials.jl:710 [inlined]",
      " [7] invokelatest at ./essentials.jl:709 [inlined]",
      " [8] eventloop(::ZMQ.Socket) at /Users/hdrake/.julia/packages/IJulia/rWZ9e/src/eventloop.jl:8",
      " [9] (::IJulia.var\"#15#18\")() at ./task.jl:356"
     ]
    }
   ],
   "source": [
    "ECS(results[exp_name][[\"adapt\"]][\"model\"])"
   ]
  },
  {
   "cell_type": "code",
   "execution_count": 182,
   "metadata": {},
   "outputs": [
    {
     "data": {
      "text/plain": [
       "1-element Array{Float64,1}:\n",
       " 69.71395633009375"
      ]
     },
     "execution_count": 182,
     "metadata": {},
     "output_type": "execute_result"
    }
   ],
   "source": [
    "_vals"
   ]
  },
  {
   "cell_type": "code",
   "execution_count": 25,
   "metadata": {},
   "outputs": [
    {
     "ename": "LoadError",
     "evalue": "KeyError: key \"status\" not found",
     "output_type": "error",
     "traceback": [
      "KeyError: key \"status\" not found",
      "",
      "Stacktrace:",
      " [1] getindex(::Dict{Any,Any}, ::String) at ./dict.jl:467",
      " [2] top-level scope at ./In[25]:3",
      " [3] include_string(::Function, ::Module, ::String, ::String) at ./loading.jl:1091",
      " [4] execute_code(::String, ::String) at /Users/hdrake/.julia/packages/IJulia/rWZ9e/src/execute_request.jl:27",
      " [5] execute_request(::ZMQ.Socket, ::IJulia.Msg) at /Users/hdrake/.julia/packages/IJulia/rWZ9e/src/execute_request.jl:86",
      " [6] #invokelatest#1 at ./essentials.jl:710 [inlined]",
      " [7] invokelatest at ./essentials.jl:709 [inlined]",
      " [8] eventloop(::ZMQ.Socket) at /Users/hdrake/.julia/packages/IJulia/rWZ9e/src/eventloop.jl:8",
      " [9] (::IJulia.var\"#15#18\")() at ./task.jl:356"
     ]
    }
   ],
   "source": [
    "min_value = Inf\n",
    "for (index, value) in pairs(results)\n",
    "    if (value[\"status\"] == \"Solve_Succeeded\") & (value[\"NPV\"] < min_value)\n",
    "        min_value = value[\"NPV\"]\n",
    "    end\n",
    "end\n",
    "\n",
    "for (index, value) in pairs(results)\n",
    "    if (value[\"status\"] == \"Solve_Succeeded\")\n",
    "        abs_value = Int64(round((value[\"NPV\"])))\n",
    "        rel_value = Int64(round((value[\"NPV\"]/min_value - 1.)*100))\n",
    "        print(\"$index, $abs_value, $rel_value%\\n\")\n",
    "    else\n",
    "        print(\"$index has no solution.\\n\")\n",
    "    end\n",
    "end\n"
   ]
  },
  {
   "cell_type": "code",
   "execution_count": null,
   "metadata": {},
   "outputs": [],
   "source": []
  }
 ],
 "metadata": {
  "kernelspec": {
   "display_name": "Julia 1.5.1",
   "language": "julia",
   "name": "julia-1.5"
  },
  "language_info": {
   "file_extension": ".jl",
   "mimetype": "application/julia",
   "name": "julia",
   "version": "1.5.1"
  }
 },
 "nbformat": 4,
 "nbformat_minor": 4
}
